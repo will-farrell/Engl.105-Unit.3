{
 "cells": [
  {
   "cell_type": "markdown",
   "id": "74018d69-8975-48dd-8e92-4f8e74e0abd8",
   "metadata": {},
   "source": [
    "# Will Feeder 3.1\n",
    "## Creating your own data subset"
   ]
  },
  {
   "cell_type": "markdown",
   "id": "b40fc4a8-8b58-4dd8-a6c3-30423bb1f323",
   "metadata": {},
   "source": [
    "To create your own subset, follow these steps\n",
    "\n",
    "1. Import packages to assist in creating your data set\n",
    "2. Import your raw data\n",
    "3. Explore the dataframe\n",
    "4. "
   ]
  },
  {
   "cell_type": "markdown",
   "id": "44981fb9-8771-4a39-af21-204c356c0fd4",
   "metadata": {},
   "source": [
    "### Importing Packages and your Dataset"
   ]
  },
  {
   "cell_type": "markdown",
   "id": "c022f9ed-06ca-4717-8bb8-a75ec4c6d8ee",
   "metadata": {},
   "source": [
    "We are going to be utlilizing pandas to analyze and manipulate the data that you uploaded into the jupyter notebook in order to create your own subset. Follow along the following steps and you will be all set.\n",
    "\n",
    "1. import packages to assist in creating your dataset\n",
    "2. import your raw data"
   ]
  },
  {
   "cell_type": "markdown",
   "id": "c50af367-1bfe-43dc-9ceb-074be19f06dd",
   "metadata": {},
   "source": [
    "First what you need to do it import the pandas package into your notebook and while your at it import numpy as well which will help pandas with math."
   ]
  },
  {
   "cell_type": "markdown",
   "id": "79a5c1f2-7cea-4d38-b220-b0e26e6d51e0",
   "metadata": {},
   "source": [
    "Execute the following commands to import the two packages:"
   ]
  },
  {
   "cell_type": "code",
   "execution_count": 4,
   "id": "9878352c-b814-491e-bfb9-87ae82419fe6",
   "metadata": {},
   "outputs": [],
   "source": [
    "import numpy as np\n",
    "import pandas as pd"
   ]
  },
  {
   "cell_type": "markdown",
   "id": "834181b1-8c4f-4355-b247-0c41c7a70e1f",
   "metadata": {},
   "source": [
    "(note: after each code you write, press command enter to run it)"
   ]
  },
  {
   "cell_type": "markdown",
   "id": "bd4ea8cc-4897-40e8-8842-f36d069d16a8",
   "metadata": {},
   "source": [
    "Now you are ready for pandas to read the data you imported into your jupyter notebook.  If you put it into the folder but still dont see it in the notebook try completely quitting anaconda and reopening. It should become visable in your notebook. Now come up with what you want to abbreviate your data name as, in my case I used \"data\". Set the abbrevaited name of your data equal to the funciton \"pd.read_csv\" which will have panda read the data from the csv. Follow that funciton with in parenthesis and quotations the word for word name of your data set. _See below for reference._"
   ]
  },
  {
   "cell_type": "code",
   "execution_count": 11,
   "id": "9f27d817-976f-4c8c-a8a9-5c3b424de577",
   "metadata": {},
   "outputs": [],
   "source": [
    "data=pd.read_csv(\"FBICrime.csv\")"
   ]
  },
  {
   "cell_type": "markdown",
   "id": "cfd6c970-7e5e-4a57-b8ee-533df49a65d7",
   "metadata": {},
   "source": [
    "### Exploring your Dataframes"
   ]
  },
  {
   "cell_type": "markdown",
   "id": "bc317150-74db-4973-8deb-818375490569",
   "metadata": {},
   "source": [
    "Now that your dataframe has been read by pandas, its time to explore its attributes. These basic attributes will tell us how many rows and comlumns (in that order) there are, the total number of cells, and so much more."
   ]
  },
  {
   "cell_type": "markdown",
   "id": "8cef9dea-a896-4b0e-a313-74850bad3c55",
   "metadata": {},
   "source": [
    "To explore these basic attributes you will use the following format"
   ]
  },
  {
   "cell_type": "markdown",
   "id": "d8e33eb9-49a0-409c-a065-69e03efe804e",
   "metadata": {},
   "source": [
    "dataframe name . attribute name"
   ]
  },
  {
   "cell_type": "markdown",
   "id": "f6c784ab-ffe7-4a02-868b-3dcba5ed2d33",
   "metadata": {},
   "source": [
    "Use the \"size\" and \"shape\" attributes using the formate above. **Size** will tell us how many total cells there are and **Shape** will tell us how many rows and columns there are."
   ]
  },
  {
   "cell_type": "code",
   "execution_count": 14,
   "id": "daf98b36-31fa-40fe-828c-7e4a505bffe9",
   "metadata": {},
   "outputs": [
    {
     "data": {
      "text/plain": [
       "180"
      ]
     },
     "execution_count": 14,
     "metadata": {},
     "output_type": "execute_result"
    }
   ],
   "source": [
    "data.size"
   ]
  },
  {
   "cell_type": "code",
   "execution_count": 15,
   "id": "e72f2828-dc31-41b6-a594-89c28c11a691",
   "metadata": {},
   "outputs": [
    {
     "data": {
      "text/plain": [
       "(36, 5)"
      ]
     },
     "execution_count": 15,
     "metadata": {},
     "output_type": "execute_result"
    }
   ],
   "source": [
    "data.shape"
   ]
  },
  {
   "cell_type": "markdown",
   "id": "21385fa8-c740-433a-8a04-318cf7a189fc",
   "metadata": {},
   "source": [
    "You can double check that the size and shape align by using a double equal sign function \"==\". The double equal sign determiens wether the function is true or false. In theory the data size (total cells) should equal the rows multiplied by the comlumns. So set up the funciton as a math equation with data.size equal to rows times columns. **Make sure to use double  equal sign**. _See below for reference._ "
   ]
  },
  {
   "cell_type": "code",
   "execution_count": 16,
   "id": "2c20a1fc-5912-4dce-b14b-adfebf7d479a",
   "metadata": {},
   "outputs": [
    {
     "data": {
      "text/plain": [
       "True"
      ]
     },
     "execution_count": 16,
     "metadata": {},
     "output_type": "execute_result"
    }
   ],
   "source": [
    "data.size == 36*5"
   ]
  },
  {
   "cell_type": "markdown",
   "id": "4a19613e-95b7-4e9f-b7d6-47c32b0f861c",
   "metadata": {},
   "source": [
    "As you can see it should be true and if not something is either mistyped in your funcitons or your data was imported incorrectly."
   ]
  },
  {
   "cell_type": "markdown",
   "id": "7d5fefa6-f628-46c9-a5c1-42bc160c7d3e",
   "metadata": {},
   "source": [
    "The final attribute we will look at is the sample attribute. **Sample** takes a random sample of rows from the dataframe. To determine how many rows are taken for the sample we use the n equals function. Whatever n equals is how many rows are randomly picked. Follow the attribute format and include the n equals function, within parenthesis, after. _See below for help_."
   ]
  },
  {
   "cell_type": "code",
   "execution_count": 21,
   "id": "3e41bb9c-9c0f-431c-90f8-ea13acc34ebd",
   "metadata": {},
   "outputs": [
    {
     "data": {
      "text/html": [
       "<div>\n",
       "<style scoped>\n",
       "    .dataframe tbody tr th:only-of-type {\n",
       "        vertical-align: middle;\n",
       "    }\n",
       "\n",
       "    .dataframe tbody tr th {\n",
       "        vertical-align: top;\n",
       "    }\n",
       "\n",
       "    .dataframe thead th {\n",
       "        text-align: right;\n",
       "    }\n",
       "</style>\n",
       "<table border=\"1\" class=\"dataframe\">\n",
       "  <thead>\n",
       "    <tr style=\"text-align: right;\">\n",
       "      <th></th>\n",
       "      <th>Bias motivation</th>\n",
       "      <th>Incidents</th>\n",
       "      <th>Offenses</th>\n",
       "      <th>Victims</th>\n",
       "      <th>Known\\noffenders</th>\n",
       "    </tr>\n",
       "  </thead>\n",
       "  <tbody>\n",
       "    <tr>\n",
       "      <th>17</th>\n",
       "      <td>Sexual Orientation:</td>\n",
       "      <td>1,233</td>\n",
       "      <td>1,402</td>\n",
       "      <td>1,461</td>\n",
       "      <td>1,514</td>\n",
       "    </tr>\n",
       "    <tr>\n",
       "      <th>22</th>\n",
       "      <td>Anti-Bisexual</td>\n",
       "      <td>25</td>\n",
       "      <td>27</td>\n",
       "      <td>27</td>\n",
       "      <td>21</td>\n",
       "    </tr>\n",
       "    <tr>\n",
       "      <th>29</th>\n",
       "      <td>Gender:</td>\n",
       "      <td>18</td>\n",
       "      <td>30</td>\n",
       "      <td>30</td>\n",
       "      <td>20</td>\n",
       "    </tr>\n",
       "    <tr>\n",
       "      <th>7</th>\n",
       "      <td>Anti-Native Hawaiian or Other Pacific Islander</td>\n",
       "      <td>3</td>\n",
       "      <td>3</td>\n",
       "      <td>3</td>\n",
       "      <td>7</td>\n",
       "    </tr>\n",
       "    <tr>\n",
       "      <th>12</th>\n",
       "      <td>Anti-Protestant</td>\n",
       "      <td>35</td>\n",
       "      <td>42</td>\n",
       "      <td>47</td>\n",
       "      <td>17</td>\n",
       "    </tr>\n",
       "    <tr>\n",
       "      <th>30</th>\n",
       "      <td>Anti-Male</td>\n",
       "      <td>5</td>\n",
       "      <td>5</td>\n",
       "      <td>5</td>\n",
       "      <td>7</td>\n",
       "    </tr>\n",
       "  </tbody>\n",
       "</table>\n",
       "</div>"
      ],
      "text/plain": [
       "                                   Bias motivation Incidents Offenses Victims  \\\n",
       "17                             Sexual Orientation:     1,233    1,402   1,461   \n",
       "22                                   Anti-Bisexual        25       27      27   \n",
       "29                                         Gender:        18       30      30   \n",
       "7   Anti-Native Hawaiian or Other Pacific Islander         3        3       3   \n",
       "12                                 Anti-Protestant        35       42      47   \n",
       "30                                       Anti-Male         5        5       5   \n",
       "\n",
       "   Known\\noffenders  \n",
       "17            1,514  \n",
       "22               21  \n",
       "29               20  \n",
       "7                 7  \n",
       "12               17  \n",
       "30                7  "
      ]
     },
     "execution_count": 21,
     "metadata": {},
     "output_type": "execute_result"
    }
   ],
   "source": [
    "data.sample(n=6)"
   ]
  },
  {
   "cell_type": "markdown",
   "id": "8e022f97-68e1-473d-b653-9a8172843ce3",
   "metadata": {},
   "source": [
    "### Filtering the Data"
   ]
  },
  {
   "cell_type": "markdown",
   "id": "e4960e03-044d-4a30-9edc-4fd1ca00e7b3",
   "metadata": {},
   "source": [
    "Now that you understand the datas basic attributes and ways to manipulate it, its time to filter the data to get the desired subset. To get the desired rows, use the loc method. This includes starting with the name of the data as usual then adding the loc fucntion followed by brackets with the start row and final row of your desired rows seperated by a colon. "
   ]
  },
  {
   "cell_type": "markdown",
   "id": "dea05b92-9ae1-4565-954a-8170b1b40e13",
   "metadata": {},
   "source": [
    "(note: pandas starts the rows at zero so adjust your numbers accordingly)"
   ]
  },
  {
   "cell_type": "markdown",
   "id": "738b4400-69a3-41a6-8e7c-7aab9f46c54f",
   "metadata": {},
   "source": [
    "It should look like this:"
   ]
  },
  {
   "cell_type": "code",
   "execution_count": 20,
   "id": "e333ff67-d72c-46ac-b115-8e425d3f6f22",
   "metadata": {},
   "outputs": [
    {
     "data": {
      "text/html": [
       "<div>\n",
       "<style scoped>\n",
       "    .dataframe tbody tr th:only-of-type {\n",
       "        vertical-align: middle;\n",
       "    }\n",
       "\n",
       "    .dataframe tbody tr th {\n",
       "        vertical-align: top;\n",
       "    }\n",
       "\n",
       "    .dataframe thead th {\n",
       "        text-align: right;\n",
       "    }\n",
       "</style>\n",
       "<table border=\"1\" class=\"dataframe\">\n",
       "  <thead>\n",
       "    <tr style=\"text-align: right;\">\n",
       "      <th></th>\n",
       "      <th>Bias motivation</th>\n",
       "      <th>Incidents</th>\n",
       "      <th>Offenses</th>\n",
       "      <th>Victims</th>\n",
       "      <th>Known\\noffenders</th>\n",
       "    </tr>\n",
       "  </thead>\n",
       "  <tbody>\n",
       "    <tr>\n",
       "      <th>3</th>\n",
       "      <td>Anti-White</td>\n",
       "      <td>653</td>\n",
       "      <td>728</td>\n",
       "      <td>754</td>\n",
       "      <td>680</td>\n",
       "    </tr>\n",
       "    <tr>\n",
       "      <th>4</th>\n",
       "      <td>Anti-Black or African American</td>\n",
       "      <td>1,856</td>\n",
       "      <td>2,263</td>\n",
       "      <td>2,371</td>\n",
       "      <td>1,747</td>\n",
       "    </tr>\n",
       "    <tr>\n",
       "      <th>5</th>\n",
       "      <td>Anti-American Indian or Alaska Native</td>\n",
       "      <td>129</td>\n",
       "      <td>146</td>\n",
       "      <td>159</td>\n",
       "      <td>108</td>\n",
       "    </tr>\n",
       "    <tr>\n",
       "      <th>6</th>\n",
       "      <td>Anti-Asian</td>\n",
       "      <td>135</td>\n",
       "      <td>158</td>\n",
       "      <td>164</td>\n",
       "      <td>130</td>\n",
       "    </tr>\n",
       "    <tr>\n",
       "      <th>7</th>\n",
       "      <td>Anti-Native Hawaiian or Other Pacific Islander</td>\n",
       "      <td>3</td>\n",
       "      <td>3</td>\n",
       "      <td>3</td>\n",
       "      <td>7</td>\n",
       "    </tr>\n",
       "    <tr>\n",
       "      <th>8</th>\n",
       "      <td>Anti-Multiple Races, Group</td>\n",
       "      <td>95</td>\n",
       "      <td>109</td>\n",
       "      <td>112</td>\n",
       "      <td>61</td>\n",
       "    </tr>\n",
       "  </tbody>\n",
       "</table>\n",
       "</div>"
      ],
      "text/plain": [
       "                                  Bias motivation Incidents Offenses Victims  \\\n",
       "3                                      Anti-White       653      728     754   \n",
       "4                  Anti-Black or African American     1,856    2,263   2,371   \n",
       "5           Anti-American Indian or Alaska Native       129      146     159   \n",
       "6                                      Anti-Asian       135      158     164   \n",
       "7  Anti-Native Hawaiian or Other Pacific Islander         3        3       3   \n",
       "8                      Anti-Multiple Races, Group        95      109     112   \n",
       "\n",
       "  Known\\noffenders  \n",
       "3              680  \n",
       "4            1,747  \n",
       "5              108  \n",
       "6              130  \n",
       "7                7  \n",
       "8               61  "
      ]
     },
     "execution_count": 20,
     "metadata": {},
     "output_type": "execute_result"
    }
   ],
   "source": [
    "data.loc[3:8]"
   ]
  },
  {
   "cell_type": "markdown",
   "id": "510efdb5-812c-4df7-abbb-33cb2691b4f2",
   "metadata": {},
   "source": [
    "You have the rows but now you need to select which columns to focus your subset on. To do this we are going to insert another bracket within the one from the funciton above. Seperate the rows from the new brackets with a comma. Inside your new brackets include the EXACT names of the columns that you want to use. I emphasized exact because if you look at the column above, \"Known offenders\" shows up as \"Known\\noffenders\" which is what you want to include in the new brackets. It looks wierd now but it will look normal in the complete subset. Make sure to include quotation marks and seperate the names with a comma (outside of the quotaiton marks). _Look below for reference._"
   ]
  },
  {
   "cell_type": "code",
   "execution_count": 29,
   "id": "d7d96ae7-3204-4a1e-865f-b536dd06fbe7",
   "metadata": {},
   "outputs": [
    {
     "data": {
      "text/html": [
       "<div>\n",
       "<style scoped>\n",
       "    .dataframe tbody tr th:only-of-type {\n",
       "        vertical-align: middle;\n",
       "    }\n",
       "\n",
       "    .dataframe tbody tr th {\n",
       "        vertical-align: top;\n",
       "    }\n",
       "\n",
       "    .dataframe thead th {\n",
       "        text-align: right;\n",
       "    }\n",
       "</style>\n",
       "<table border=\"1\" class=\"dataframe\">\n",
       "  <thead>\n",
       "    <tr style=\"text-align: right;\">\n",
       "      <th></th>\n",
       "      <th>Bias motivation</th>\n",
       "      <th>Victims</th>\n",
       "      <th>Known\\noffenders</th>\n",
       "    </tr>\n",
       "  </thead>\n",
       "  <tbody>\n",
       "    <tr>\n",
       "      <th>3</th>\n",
       "      <td>Anti-White</td>\n",
       "      <td>754</td>\n",
       "      <td>680</td>\n",
       "    </tr>\n",
       "    <tr>\n",
       "      <th>4</th>\n",
       "      <td>Anti-Black or African American</td>\n",
       "      <td>2,371</td>\n",
       "      <td>1,747</td>\n",
       "    </tr>\n",
       "    <tr>\n",
       "      <th>5</th>\n",
       "      <td>Anti-American Indian or Alaska Native</td>\n",
       "      <td>159</td>\n",
       "      <td>108</td>\n",
       "    </tr>\n",
       "    <tr>\n",
       "      <th>6</th>\n",
       "      <td>Anti-Asian</td>\n",
       "      <td>164</td>\n",
       "      <td>130</td>\n",
       "    </tr>\n",
       "    <tr>\n",
       "      <th>7</th>\n",
       "      <td>Anti-Native Hawaiian or Other Pacific Islander</td>\n",
       "      <td>3</td>\n",
       "      <td>7</td>\n",
       "    </tr>\n",
       "    <tr>\n",
       "      <th>8</th>\n",
       "      <td>Anti-Multiple Races, Group</td>\n",
       "      <td>112</td>\n",
       "      <td>61</td>\n",
       "    </tr>\n",
       "  </tbody>\n",
       "</table>\n",
       "</div>"
      ],
      "text/plain": [
       "                                  Bias motivation Victims Known\\noffenders\n",
       "3                                      Anti-White     754              680\n",
       "4                  Anti-Black or African American   2,371            1,747\n",
       "5           Anti-American Indian or Alaska Native     159              108\n",
       "6                                      Anti-Asian     164              130\n",
       "7  Anti-Native Hawaiian or Other Pacific Islander       3                7\n",
       "8                      Anti-Multiple Races, Group     112               61"
      ]
     },
     "execution_count": 29,
     "metadata": {},
     "output_type": "execute_result"
    }
   ],
   "source": [
    "    data.loc[3:8,[\"Bias motivation\",\"Victims\",\"Known\\noffenders\"]]"
   ]
  },
  {
   "cell_type": "markdown",
   "id": "ba34d7dc-4307-49c1-b3bf-81bc9a717be5",
   "metadata": {},
   "source": [
    "Congratulations! You've now made your subset. However your not finished yet as we need to name it and save it as its own csv file."
   ]
  },
  {
   "cell_type": "markdown",
   "id": "8434a3a1-9bd4-422c-a0a4-e8cefd71a96f",
   "metadata": {},
   "source": [
    "To name the subset, first think of what you want to name it. In my case I named it \"data_subset\". Then you want to set it equal to the funciton you just completed above. I found it easy if you copy and paste so you dont make an error and it saves time. "
   ]
  },
  {
   "cell_type": "code",
   "execution_count": 23,
   "id": "a3171a0f-c6c4-4d01-b24c-97a36909d9c0",
   "metadata": {},
   "outputs": [],
   "source": [
    " data_subset = data.loc[3:8,[\"Bias motivation\",\"Victims\",\"Known\\noffenders\"]]"
   ]
  },
  {
   "cell_type": "markdown",
   "id": "11bb8282-31b3-443d-ac63-4375986f480f",
   "metadata": {},
   "source": [
    "Now you can test to see if it worked by typing the name of the subset. If done properly your subset should appear just as it does above. "
   ]
  },
  {
   "cell_type": "code",
   "execution_count": 30,
   "id": "69f45318-e671-4905-9398-e20651c81728",
   "metadata": {},
   "outputs": [
    {
     "data": {
      "text/html": [
       "<div>\n",
       "<style scoped>\n",
       "    .dataframe tbody tr th:only-of-type {\n",
       "        vertical-align: middle;\n",
       "    }\n",
       "\n",
       "    .dataframe tbody tr th {\n",
       "        vertical-align: top;\n",
       "    }\n",
       "\n",
       "    .dataframe thead th {\n",
       "        text-align: right;\n",
       "    }\n",
       "</style>\n",
       "<table border=\"1\" class=\"dataframe\">\n",
       "  <thead>\n",
       "    <tr style=\"text-align: right;\">\n",
       "      <th></th>\n",
       "      <th>Bias motivation</th>\n",
       "      <th>Victims</th>\n",
       "      <th>Known\\noffenders</th>\n",
       "    </tr>\n",
       "  </thead>\n",
       "  <tbody>\n",
       "    <tr>\n",
       "      <th>3</th>\n",
       "      <td>Anti-White</td>\n",
       "      <td>754</td>\n",
       "      <td>680</td>\n",
       "    </tr>\n",
       "    <tr>\n",
       "      <th>4</th>\n",
       "      <td>Anti-Black or African American</td>\n",
       "      <td>2,371</td>\n",
       "      <td>1,747</td>\n",
       "    </tr>\n",
       "    <tr>\n",
       "      <th>5</th>\n",
       "      <td>Anti-American Indian or Alaska Native</td>\n",
       "      <td>159</td>\n",
       "      <td>108</td>\n",
       "    </tr>\n",
       "    <tr>\n",
       "      <th>6</th>\n",
       "      <td>Anti-Asian</td>\n",
       "      <td>164</td>\n",
       "      <td>130</td>\n",
       "    </tr>\n",
       "    <tr>\n",
       "      <th>7</th>\n",
       "      <td>Anti-Native Hawaiian or Other Pacific Islander</td>\n",
       "      <td>3</td>\n",
       "      <td>7</td>\n",
       "    </tr>\n",
       "    <tr>\n",
       "      <th>8</th>\n",
       "      <td>Anti-Multiple Races, Group</td>\n",
       "      <td>112</td>\n",
       "      <td>61</td>\n",
       "    </tr>\n",
       "  </tbody>\n",
       "</table>\n",
       "</div>"
      ],
      "text/plain": [
       "                                  Bias motivation Victims Known\\noffenders\n",
       "3                                      Anti-White     754              680\n",
       "4                  Anti-Black or African American   2,371            1,747\n",
       "5           Anti-American Indian or Alaska Native     159              108\n",
       "6                                      Anti-Asian     164              130\n",
       "7  Anti-Native Hawaiian or Other Pacific Islander       3                7\n",
       "8                      Anti-Multiple Races, Group     112               61"
      ]
     },
     "execution_count": 30,
     "metadata": {},
     "output_type": "execute_result"
    }
   ],
   "source": [
    "data_subset"
   ]
  },
  {
   "cell_type": "markdown",
   "id": "1fae1c47-9ba8-4353-95d3-66e620606312",
   "metadata": {},
   "source": [
    "### Saving your subset"
   ]
  },
  {
   "cell_type": "markdown",
   "id": "df18fc94-3f9e-49fb-b179-2b7e8029b2da",
   "metadata": {},
   "source": [
    "The final step is to transform the subset into its own csv. To do this start with the name of your subset followed by the .to_csv function. Then include the name of the subset trailed by .csv. This needs to be in quotaiton marks and parenthesis. "
   ]
  },
  {
   "cell_type": "markdown",
   "id": "dbfb7a55-59eb-4b55-8aeb-9f0c9c14597b",
   "metadata": {},
   "source": [
    "It should look like this:"
   ]
  },
  {
   "cell_type": "code",
   "execution_count": 31,
   "id": "284fa9f8-3d5b-4a98-b614-3483de518a97",
   "metadata": {},
   "outputs": [],
   "source": [
    "data_subset.to_csv(\"data_subset.csv\")"
   ]
  },
  {
   "cell_type": "markdown",
   "id": "670ba62b-b3b5-449a-b71c-652d9c629426",
   "metadata": {},
   "source": [
    "Your subset should now appear in your folder. However you may notice and extra numbered column. To get rid of this use the index=False function. This tells pandas not to include those index numbers in the data. Just include this funciton within the parenthesis of the function above, seperated by a comma. _See below for help._"
   ]
  },
  {
   "cell_type": "code",
   "execution_count": 32,
   "id": "89d49697-3273-423a-8529-e89798c7a64f",
   "metadata": {},
   "outputs": [],
   "source": [
    "data_subset.to_csv(\"data_subset.csv\", index=False)"
   ]
  },
  {
   "cell_type": "markdown",
   "id": "7722a8a1-ac69-4079-853b-2faf5ded39cb",
   "metadata": {},
   "source": [
    "Now you should be able to click on the subset and it should look like your other csv file and the only difference is its the data you want. Congratulations again! Now you have successfully created your own subset and downloaded it as a csv. I hope this helped."
   ]
  }
 ],
 "metadata": {
  "kernelspec": {
   "display_name": "Python 3 (ipykernel)",
   "language": "python",
   "name": "python3"
  },
  "language_info": {
   "codemirror_mode": {
    "name": "ipython",
    "version": 3
   },
   "file_extension": ".py",
   "mimetype": "text/x-python",
   "name": "python",
   "nbconvert_exporter": "python",
   "pygments_lexer": "ipython3",
   "version": "3.9.13"
  },
  "toc-autonumbering": false,
  "toc-showcode": false,
  "toc-showmarkdowntxt": true
 },
 "nbformat": 4,
 "nbformat_minor": 5
}
